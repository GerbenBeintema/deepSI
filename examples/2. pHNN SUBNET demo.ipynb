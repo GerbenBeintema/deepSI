{
 "cells": [
  {
   "cell_type": "code",
   "execution_count": 1,
   "id": "269c3b67-c21f-419f-b508-25ad939d9153",
   "metadata": {},
   "outputs": [],
   "source": [
    "import deepSI as dsi\n",
    "import torch"
   ]
  },
  {
   "cell_type": "markdown",
   "id": "81d2f263-ab66-4a60-8c1e-a2c2ab2da548",
   "metadata": {},
   "source": [
    "## Port Hamiltonian Neural Networks in `deepSI`\n",
    "\n",
    "Model structure given by `pHNN_SUBNET`\n",
    "\n",
    "$$ \\frac{dx}{dt} = \\frac{1}{\\tau} \\left (\\left ( J(x) - R(x) \\right ) \\frac{dH}{dx} + G(x) (u - u_\\text{mean})/u_\\text{std} \\right)$$\n",
    "\n",
    "$$ (y - y_\\text{mean})/y_\\text{std} = G(x)^T \\frac{dH}{dx}  $$\n",
    "\n",
    "where \n",
    "$$ \\tau \\text{ is a constant selected as } 10\\ T_s  \\text{ by default}$$\n",
    "$$G (\\text{Gnet}) : n_\\text{x} \\rightarrow n_\\text{x} \\times n_\\text{u}$$\n",
    "$$J (\\text{Jnet}) : n_\\text{x} \\rightarrow n_\\text{x} \\times n_\\text{x}\\ \\text{(skew symetric)}$$\n",
    "$$R (\\text{Rnet}) : n_\\text{x} \\rightarrow n_\\text{x} \\times n_\\text{x}\\ \\text{(semi positive def)}$$\n",
    "$$H (\\text{Hnet}) : n_\\text{x} \\rightarrow\\ \\text{scalar}$$\n",
    "$$u_\\text{mean},\\ u_\\text{std},\\ y_\\text{mean},\\ y_\\text{std}\\ \\text{given by the `norm.umean`, `norm.ustd`, ect.}$$\n",
    "also `model.integrator(f, x, u, dt)` is a function that integrates the state given a certain state derivative $f$ and input $u$ for $dt$ time. \n",
    "\n",
    "These function are constructed by default by using `MLP_res_net` as a base and than converting the output such that it adhers to the constraints. "
   ]
  },
  {
   "cell_type": "code",
   "execution_count": 3,
   "id": "31124692-0273-4630-94be-c9c181f0359d",
   "metadata": {},
   "outputs": [
    {
     "data": {
      "text/plain": [
       "tensor([[ 0.6436,  0.6736,  0.6847,  0.6754,  0.6843,  0.6743,  0.6747,  0.6841,\n",
       "          0.6996,  0.6891],\n",
       "        [-0.1671, -0.1697, -0.1727, -0.1782, -0.1766, -0.1738, -0.1774, -0.1789,\n",
       "         -0.1820, -0.1827]], grad_fn=<AddBackward0>)"
      ]
     },
     "execution_count": 3,
     "metadata": {},
     "output_type": "execute_result"
    }
   ],
   "source": [
    "norm = dsi.normalization.Norm(0,1,0,1)\n",
    "na = nb = 3\n",
    "nx = 4\n",
    "nu = ny = 'scalar'\n",
    "model = dsi.models.pHNN_SUBNET(nu, ny, norm, nx, na, nb)\n",
    "\n",
    "# net(torch.randn(3,4)).shape\n",
    "r = torch.randn\n",
    "b = 2\n",
    "T = 10\n",
    "upast, ypast, ufuture, yfuture = r(b, nb), r(b, na), r(b, T), r(b, T)\n",
    "sampling_time = r(b)\n",
    "model(upast, ypast, ufuture, sampling_time=sampling_time)"
   ]
  },
  {
   "cell_type": "markdown",
   "id": "5b1fdca4-c7b8-4b15-815f-68941dd4aa41",
   "metadata": {},
   "source": [
    "## Customized function for each element: \n",
    "\n",
    "Example (this will get expanded later)"
   ]
  },
  {
   "cell_type": "code",
   "execution_count": null,
   "id": "5b02f337-ab26-48cc-ac3f-d19ce046d846",
   "metadata": {},
   "outputs": [
    {
     "data": {
      "text/plain": [
       "torch.Size([2, 10])"
      ]
     },
     "execution_count": 5,
     "metadata": {},
     "output_type": "execute_result"
    }
   ],
   "source": [
    "import deepSI as dsi\n",
    "import torch\n",
    "from torch import nn\n",
    "from deepSI.networks import Quadratic_net\n",
    "\n",
    "nx = 4\n",
    "Jnet_bias = dsi.networks.Bias_net(nx*nx)\n",
    "Jnet_constant = dsi.networks.Contant_net(torch.randn(nx*nx))\n",
    "Jnet_mlp = dsi.networks.MLP_res_net(input_size=nx, output_size=nx*nx) #simple \n",
    "Jnet = dsi.networks.Sum_net([Jnet_bias, Jnet_constant, Jnet_mlp]) #add these three networks together\n",
    "Jnet = dsi.networks.Skew_sym_converter(Jnet) #x -> nx x nx \n",
    "Rnet = dsi.networks.Bias_net(nx*nx)\n",
    "Rnet = dsi.networks.Sym_pos_semidef_converter(Rnet)\n",
    "\n",
    "Hnet_depend = dsi.networks.ELU_lower_bound(dsi.networks.MLP_res_net(nx, 'scalar'), lower_bound=-100)\n",
    "Hnet_qaudratic = Quadratic_net(nx)\n",
    "Hnet = dsi.networks.Ham_converter(dsi.networks.Sum_net([Hnet_depend,Hnet_qaudratic]))\n",
    "\n",
    "nu = 'scalar'\n",
    "ny = 'scalar'\n",
    "\n",
    "norm = dsi.normalization.Norm(0,1,0,1)\n",
    "na = nb = 3\n",
    "model = dsi.models.pHNN_SUBNET(nu, ny, norm, nx, na, nb, Jnet=Jnet, Rnet=Rnet, Hnet=Hnet)\n",
    "\n",
    "# net(torch.randn(3,4)).shape\n",
    "r = torch.randn\n",
    "b = 2\n",
    "T = 10\n",
    "upast, ypast, ufuture, yfuture = r(b, nb), r(b, na), r(b, T), r(b, T)\n",
    "sampling_time = r(b)\n",
    "model(upast, ypast, ufuture, sampling_time=sampling_time).shape"
   ]
  },
  {
   "cell_type": "code",
   "execution_count": null,
   "id": "a407f7cb",
   "metadata": {},
   "outputs": [],
   "source": []
  }
 ],
 "metadata": {
  "kernelspec": {
   "display_name": "noodle",
   "language": "python",
   "name": "python3"
  },
  "language_info": {
   "codemirror_mode": {
    "name": "ipython",
    "version": 3
   },
   "file_extension": ".py",
   "mimetype": "text/x-python",
   "name": "python",
   "nbconvert_exporter": "python",
   "pygments_lexer": "ipython3",
   "version": "3.11.10"
  }
 },
 "nbformat": 4,
 "nbformat_minor": 5
}
